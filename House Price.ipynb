{
 "cells": [
  {
   "cell_type": "markdown",
   "metadata": {},
   "source": [
    "# STA141B Group Project"
   ]
  },
  {
   "cell_type": "markdown",
   "metadata": {},
   "source": [
    "# Race, School Ratings, Crime and Real Estate: What affects home price in California? "
   ]
  },
  {
   "cell_type": "markdown",
   "metadata": {},
   "source": [
    "Written by:\n",
    "\n",
    "Jingqi Chen (998841054)\n",
    "\n",
    "Yili Wang (999316533)\n",
    "\n",
    "KaWoon Tam(913389384)\n",
    "\n",
    "WeiZhuo Xiong(914443957)"
   ]
  },
  {
   "cell_type": "markdown",
   "metadata": {},
   "source": [
    "## I. Background and Purpose"
   ]
  },
  {
   "cell_type": "markdown",
   "metadata": {},
   "source": [
    "When it comes to home buying market, people usually need to consider many characteristics of the house, such as number of bedrooms and bathrooms, lot size, garage, backyard, etc. However, there are actually much more factors need to be thought about beyond the house itself. For example, public school ratings and crime situation. Accroding to a national study conducted in 2013, public school ratings in the district can affect the homes' values, which leads to an average premium of $50 a square foot. Besides, racial composition of the neighborhood also influence home buyers' decisions. For most of the time, school ratings and racial composition interact with each other and mutually pose impact on real estate price. From 2006 report of the National Fair Housing Alliance, \"it is evident from the investigation that schools have become a proxy for the racial or ethnic composition of neighborhoods\". \n",
    "\n",
    "Therefore, we conducted this project researching the relationship between public school rating and racial composition and their influences in home prices. Moreover, we examine the crime occurrence and house price. And in the end, use web scraping to predict the trend of the house price.  "
   ]
  },
  {
   "cell_type": "markdown",
   "metadata": {},
   "source": [
    "## II. Data Sources"
   ]
  },
  {
   "cell_type": "markdown",
   "metadata": {},
   "source": [
    "In terms of data searching, since we are undergraduates at UC Davis, we choose California real estate market as our sample. In order to achieve our research goal, we obtain data from the following sources:\n",
    "\n",
    "1. [Median Home Value Per Square Foot from Zillow Data]( https://www.zillow.com/research/data/)\n",
    "2. [Public School Ratings from California Department of Education](http://www.cde.ca.gov/ta/ac/ap/ )\n",
    "3. [Crime Report from FBI Uniform Crime Reporting](https://ucr.fbi.gov/ )"
   ]
  },
  {
   "cell_type": "markdown",
   "metadata": {},
   "source": [
    "## III. Raw Data Description"
   ]
  },
  {
   "cell_type": "markdown",
   "metadata": {},
   "source": [
    "| Dataset | Source | Description | Parameter of Interest |\n",
    "|---------------|-----------------|------------------|------------------|\n",
    "|Home Price|Zillow Data|monthly median prices of cities in California|Median Home Value Per Sq Ft ($)|\n",
    "|Public School Rating (API)|California Department of Education|API (Academic Performance Index) of California public schools in 2013|API score; Percentage of White student; Percentage of Asian student;  percent of immigrated student; Class size; Parents education level|\n",
    "|Crime|FBI Uniform Crime Reporting|Crime Incidences in California by city in 2013|Different types of crime: Murder, Rape, Robbery, Aggravated assault, Property crime, Burglary, Larceny theft, Motor vehicle theft, Arson|"
   ]
  },
  {
   "cell_type": "markdown",
   "metadata": {},
   "source": [
    "## IV.  Data Pre-processing"
   ]
  },
  {
   "cell_type": "markdown",
   "metadata": {},
   "source": [
    "For our project, there are three main datasets, which are home price, public school average academic performance index(API) and crime. Since we only interested in the relationship between these datasets in California, and the dataset of 2013 public school academic information only incorporate those in California. Accordingly, by using merge method in pandas we can merge different dataset share same city name. After that, we will count the average home price in year 2013 for each city and use it to analyse."
   ]
  },
  {
   "cell_type": "code",
   "execution_count": 1,
   "metadata": {
    "collapsed": true
   },
   "outputs": [],
   "source": [
    "import pandas as pd\n",
    "import numpy as np\n",
    "import matplotlib.pyplot as plt\n",
    "from scipy.stats import gaussian_kde as kde\n",
    "from matplotlib.colors import Normalize\n",
    "from matplotlib import cm\n",
    "from scipy.stats import gaussian_kde"
   ]
  },
  {
   "cell_type": "code",
   "execution_count": 2,
   "metadata": {
    "collapsed": true
   },
   "outputs": [],
   "source": [
    "price = pd.read_csv(\"Zip_MedianValuePerSqft_AllHomes.csv\")"
   ]
  },
  {
   "cell_type": "code",
   "execution_count": 4,
   "metadata": {
    "collapsed": false
   },
   "outputs": [],
   "source": [
    "school = pd.read_csv(\"CA_schools.csv\")"
   ]
  },
  {
   "cell_type": "code",
   "execution_count": 5,
   "metadata": {
    "collapsed": true
   },
   "outputs": [],
   "source": [
    "#merge price data and school\n",
    "data=pd.merge(price,school,left_on='City',right_on='DNAME',how='inner')\n",
    "data=data.groupby('City').mean()"
   ]
  },
  {
   "cell_type": "code",
   "execution_count": 6,
   "metadata": {
    "collapsed": true
   },
   "outputs": [],
   "source": [
    "#create dataframe have API in 2013 and home price in 2013\n",
    "y=np.mean(data.iloc[:,208:220],axis=1)\n",
    "APIPRICE=pd.DataFrame([data['API13'],y]).dropna(axis=1)"
   ]
  },
  {
   "cell_type": "markdown",
   "metadata": {},
   "source": [
    "## V. Academic Performance Index (API) and House Price"
   ]
  },
  {
   "cell_type": "markdown",
   "metadata": {},
   "source": [
    "### Correlation Plot of Academic Performance Index (API) and House Price"
   ]
  },
  {
   "cell_type": "code",
   "execution_count": 7,
   "metadata": {
    "collapsed": true
   },
   "outputs": [],
   "source": [
    "import scipy\n",
    "from scipy import stats\n",
    "from sklearn import datasets, linear_model\n",
    "from scipy.stats import gaussian_kde"
   ]
  },
  {
   "cell_type": "markdown",
   "metadata": {},
   "source": [
    "Academic Performance Index is a parameter express the education level for a school, the school which have higher Academic Performance Index(API) means the students in this school have better grade. Firstly, what we want to find out is whether API and house price are correlated. Since the original scatter plot between price and API share log form, we use the log value of both price and API to display the consequence, which shows that these two parameters seems to be positive related. Then the question is, if API have positive relation with price, what parameters will affect API?\n",
    "\n",
    "For the following plots, we use different scatter plots to find the relationship between API and other parameters and use size of points to express home price (larger points means more expensive home price)."
   ]
  },
  {
   "cell_type": "code",
   "execution_count": 8,
   "metadata": {
    "collapsed": false
   },
   "outputs": [
    {
     "data": {
      "image/png": "[encoded data removed]",
      "text/plain": [
       "<matplotlib.figure.Figure at 0x10f65ff90>"
      ]
     },
     "metadata": {},
     "output_type": "display_data"
    },
    {
     "name": "stdout",
     "output_type": "stream",
     "text": [
      "slope:0.0662402253738\n",
      "intercept:6.33053647228\n",
      "r_value:0.399533235218\n",
      "p_value:1.00668779685e-16\n",
      "std_err:0.00762798326365\n"
     ]
    }
   ],
   "source": [
    "#relation between price and api\n",
    "\n",
    "y=np.log(APIPRICE.iloc[0,:])\n",
    "x=np.log(APIPRICE.iloc[1,:])\n",
    "fit = np.polyfit(x,y,1)\n",
    "fit_fn = np.poly1d(fit) \n",
    "\n",
    "# Calculate the point density\n",
    "xy = np.vstack([x,y])\n",
    "z = gaussian_kde(xy)(xy)\n",
    "\n",
    "fig, ax = plt.subplots()\n",
    "ax.scatter(x, y, c=z, s=10, edgecolor='')\n",
    "plt.plot( x, fit_fn(x), '--k')\n",
    "plt.title('relation between price and API')\n",
    "plt.xlabel('price')\n",
    "plt.ylabel('API')\n",
    "fit = np.polyfit(x,y,1)\n",
    "fit_fn = np.poly1d(fit)\n",
    "plt.show()\n",
    "slope, intercept, r_value, p_value, std_err = scipy.stats.linregress(x,y)\n",
    "print('slope:{}\\nintercept:{}\\nr_value:{}\\np_value:{}\\nstd_err:{}'.format(slope, intercept, r_value, p_value, std_err))"
   ]
  },
  {
   "cell_type": "markdown",
   "metadata": {},
   "source": [
    "### API v.s Student Type (migrate/ not migrate)"
   ]
  },
  {
   "cell_type": "markdown",
   "metadata": {},
   "source": [
    "The first thing we can thought out which might correlated with API is the percentage of different students. Since most of us are international students so we want to know whether percentage of international students might affect API, and the answer seems not, the distribution between API and migrate student have a normal distribution which is pretty natural, so we can't deduce correlation from that."
   ]
  },
  {
   "cell_type": "code",
   "execution_count": 9,
   "metadata": {
    "collapsed": true
   },
   "outputs": [],
   "source": [
    "y=np.sum(data[['PCT_AS','PCT_WH']],axis=1)\n",
    "y1=data['PCT_HI']\n",
    "ASIANWHITE=pd.DataFrame([data['API13'],y]).dropna(axis=1)\n",
    "MIGRAGE=pd.DataFrame([data['API13'],data['P_MIGED']]).dropna(axis=1)\n",
    "ASWHLA=pd.DataFrame([data['API13'],y1]).dropna(axis=1)"
   ]
  },
  {
   "cell_type": "code",
   "execution_count": 10,
   "metadata": {
    "collapsed": false
   },
   "outputs": [
    {
     "data": {
      "image/png": "[encoded data removed]",
      "text/plain": [
       "<matplotlib.figure.Figure at 0x10f581fd0>"
      ]
     },
     "metadata": {},
     "output_type": "display_data"
    }
   ],
   "source": [
    "#Percent of migrate student and API\n",
    "y = MIGRAGE.iloc[0,:]\n",
    "x = MIGRAGE.iloc[1,:]\n",
    "size=np.mean(data.iloc[:,208:220],axis=1)\n",
    "# Calculate the point density\n",
    "xy = np.vstack([x,y])\n",
    "z = gaussian_kde(xy)(xy)\n",
    "\n",
    "fig, ax = plt.subplots()\n",
    "ax.scatter(x, y, c=z, s=size/10, edgecolor='')\n",
    "plt.title('relation between Percent of migrate student and API')\n",
    "plt.xlabel('Percent of migrate student')\n",
    "plt.ylabel('API')\n",
    "plt.show()"
   ]
  },
  {
   "cell_type": "markdown",
   "metadata": {},
   "source": [
    "### API v.s Race"
   ]
  },
  {
   "cell_type": "markdown",
   "metadata": {},
   "source": [
    "In addition, it is quite likely that the percentage of different race group of students might contribute differently to API, since we have heard a lot of times that SAT(college admissions in the United States) requirement for students from different race group is different.  \n",
    "\n",
    "Since both asian and white student share similar situation which means they have relative low percentage and high API in each school, we group them together and show that public school which have higher percentage of asian plus white students will have higher API. On the other hand, percentage of latino student seems to be negative correlated with API, which means diversity of public school might have positive contribution to API."
   ]
  },
  {
   "cell_type": "code",
   "execution_count": 11,
   "metadata": {
    "collapsed": false
   },
   "outputs": [
    {
     "data": {
      "image/png": "[encoded data removed]",
      "text/plain": [
       "<matplotlib.figure.Figure at 0x10fbab150>"
      ]
     },
     "metadata": {},
     "output_type": "display_data"
    },
    {
     "name": "stdout",
     "output_type": "stream",
     "text": [
      "slope:1.7476976896\n",
      "intercept:720.679173033\n",
      "r_value:0.580624846117\n",
      "p_value:2.4570507318e-37\n",
      "std_err:0.122996058149\n"
     ]
    }
   ],
   "source": [
    "#Percent of asian+white student and API\n",
    "y = ASIANWHITE.iloc[0,:]\n",
    "x = ASIANWHITE.iloc[1,:]\n",
    "size=np.mean(data.iloc[:,208:220],axis=1)\n",
    "# Calculate the point density\n",
    "xy = np.vstack([x,y])\n",
    "z = gaussian_kde(xy)(xy)\n",
    "\n",
    "fig, ax = plt.subplots()\n",
    "ax.scatter(x, y, c=z, s=size/10, edgecolor='')\n",
    "plt.title('relation between Percent of asian+white student and API')\n",
    "plt.xlabel('Percent of asian+white student')\n",
    "plt.ylabel('API')\n",
    "fit = np.polyfit(x,y,1)\n",
    "fit_fn = np.poly1d(fit)\n",
    "plt.plot( x, fit_fn(x), '--k')\n",
    "plt.show()\n",
    "slope, intercept, r_value, p_value, std_err = scipy.stats.linregress(x,y)\n",
    "print('slope:{}\\nintercept:{}\\nr_value:{}\\np_value:{}\\nstd_err:{}'.format(slope, intercept, r_value, p_value, std_err))"
   ]
  },
  {
   "cell_type": "code",
   "execution_count": 12,
   "metadata": {
    "collapsed": false
   },
   "outputs": [
    {
     "data": {
      "image/png": "[encoded data removed]",
      "text/plain": [
       "<matplotlib.figure.Figure at 0x10de8dfd0>"
      ]
     },
     "metadata": {},
     "output_type": "display_data"
    },
    {
     "name": "stdout",
     "output_type": "stream",
     "text": [
      "slope:-1.43124067511\n",
      "intercept:861.563378952\n",
      "r_value:-0.489406676038\n",
      "p_value:2.0195954085e-25\n",
      "std_err:0.127994627743\n"
     ]
    }
   ],
   "source": [
    "#percent of latino and api\n",
    "y = ASWHLA.iloc[0,:]\n",
    "x = ASWHLA.iloc[1,:]\n",
    "size=np.mean(data.iloc[:,208:220],axis=1)\n",
    "# Calculate the point density\n",
    "xy = np.vstack([x,y])\n",
    "z = gaussian_kde(xy)(xy)\n",
    "\n",
    "fig, ax = plt.subplots()\n",
    "ax.scatter(x, y, c=z, s=size/10, edgecolor='')\n",
    "plt.title('relation between percent of latino student and API')\n",
    "plt.xlabel('percent of latino student')\n",
    "plt.ylabel('API')\n",
    "fit = np.polyfit(x,y,1)\n",
    "fit_fn = np.poly1d(fit)\n",
    "plt.plot( x, fit_fn(x), '--k')\n",
    "plt.show()\n",
    "slope, intercept, r_value, p_value, std_err = scipy.stats.linregress(x,y)\n",
    "print('slope:{}\\nintercept:{}\\nr_value:{}\\np_value:{}\\nstd_err:{}'.format(slope, intercept, r_value, p_value, std_err))"
   ]
  },
  {
   "cell_type": "markdown",
   "metadata": {},
   "source": [
    "### API v.s Class Size"
   ]
  },
  {
   "cell_type": "markdown",
   "metadata": {},
   "source": [
    "Then we want to know whether class size will affect API, since, intuitively, smaller class will make teachers have better understanding of each students, which might contribute to student academic success. However, the answer we got can't approve this idea. Because most of class will have class size close to 27, which means we don't have enough information about more extreme class size to analysis the relation between those two. "
   ]
  },
  {
   "cell_type": "code",
   "execution_count": 13,
   "metadata": {
    "collapsed": false
   },
   "outputs": [
    {
     "data": {
      "image/png": "[encoded data removed]",
      "text/plain": [
       "<matplotlib.figure.Figure at 0x10fb23e50>"
      ]
     },
     "metadata": {},
     "output_type": "display_data"
    }
   ],
   "source": [
    "CLASS=pd.DataFrame([data['API13'],data['ACS_46']]).dropna(axis=1)\n",
    "#class size and api\n",
    "y = CLASS.iloc[0,:]\n",
    "x = CLASS.iloc[1,:]\n",
    "\n",
    "# Calculate the point density\n",
    "xy = np.vstack([x,y])\n",
    "z = gaussian_kde(xy)(xy)\n",
    "size=np.mean(data.iloc[:,208:220],axis=1)\n",
    "fig, ax = plt.subplots()\n",
    "ax.scatter(x, y, c=z, s=size/10, edgecolor='')\n",
    "plt.title('relation between class size and API')\n",
    "plt.xlabel('class size')\n",
    "plt.ylabel('API')\n",
    "plt.show()"
   ]
  },
  {
   "cell_type": "markdown",
   "metadata": {},
   "source": [
    "### API v.s Parent Education Level"
   ]
  },
  {
   "cell_type": "markdown",
   "metadata": {},
   "source": [
    "Quite likely, parents education level might have strong correlation with API, since the parents  who have earn academic success before might have higer intelligence or know the right way to pursuit education improvement. After that, their children will learn the right method from them and inherit their talent. Luckily, the answer we got approve this hypothesis. When compare the average parents education level and API for each public school in California, there seems exist a strong positive correlation."
   ]
  },
  {
   "cell_type": "code",
   "execution_count": 14,
   "metadata": {
    "collapsed": false
   },
   "outputs": [
    {
     "data": {
      "image/png": "[encoded data removed]",
      "text/plain": [
       "<matplotlib.figure.Figure at 0x1101a6410>"
      ]
     },
     "metadata": {},
     "output_type": "display_data"
    },
    {
     "name": "stdout",
     "output_type": "stream",
     "text": [
      "slope:86.749800026\n",
      "intercept:544.629585209\n",
      "r_value:0.754303403959\n",
      "p_value:1.48907964053e-74\n",
      "std_err:3.78947533135\n"
     ]
    }
   ],
   "source": [
    "EDU=pd.DataFrame([data['API13'],data['AVG_ED']]).dropna(axis=1)\n",
    "#parents education level and api\n",
    "y = EDU.iloc[0,:]\n",
    "x = EDU.iloc[1,:]\n",
    "size=np.mean(data.iloc[:,208:220],axis=1)\n",
    "# Calculate the point density\n",
    "xy = np.vstack([x,y])\n",
    "z = gaussian_kde(xy)(xy)\n",
    "\n",
    "fig, ax = plt.subplots()\n",
    "ax.scatter(x, y, c=z, s=size/10, edgecolor='')\n",
    "plt.title('relation between parents education level and API')\n",
    "plt.xlabel('parents education level')\n",
    "plt.ylabel('API')\n",
    "fit = np.polyfit(x,y,1)\n",
    "fit_fn = np.poly1d(fit)\n",
    "plt.plot( x, fit_fn(x), '--k')\n",
    "plt.show()\n",
    "slope, intercept, r_value, p_value, std_err = scipy.stats.linregress(x,y)\n",
    "print('slope:{}\\nintercept:{}\\nr_value:{}\\np_value:{}\\nstd_err:{}'.format(slope, intercept, r_value, p_value, std_err))"
   ]
  },
  {
   "cell_type": "markdown",
   "metadata": {},
   "source": [
    "### Barplot of Home Prices"
   ]
  },
  {
   "cell_type": "markdown",
   "metadata": {},
   "source": [
    "To obtain a general idea about California home price, let's draw a bar plot and look at it!"
   ]
  },
  {
   "cell_type": "markdown",
   "metadata": {},
   "source": [
    "Firstly, we re-organized the data to generate an appropriate data frame(api_homeprice) containing city, API, and home price in 2013, for convenience."
   ]
  },
  {
   "cell_type": "code",
   "execution_count": 15,
   "metadata": {
    "collapsed": false
   },
   "outputs": [],
   "source": [
    "data1=pd.merge(price,school,left_on='City',right_on='DNAME',how='inner')\n",
    "data0=data1.groupby('City').mean()"
   ]
  },
  {
   "cell_type": "code",
   "execution_count": 16,
   "metadata": {
    "collapsed": true
   },
   "outputs": [],
   "source": [
    "y=np.mean(data0.iloc[:,208:220],axis=1)\n",
    "APIPRICE=pd.DataFrame([data0['API13'],y]).dropna(axis=1)\n",
    "api_price = APIPRICE.T"
   ]
  },
  {
   "cell_type": "code",
   "execution_count": 17,
   "metadata": {
    "collapsed": true
   },
   "outputs": [],
   "source": [
    "city_name = pd.DataFrame(list(api_price.index))\n",
    "API = pd.DataFrame(list(api_price.iloc[:,0]))\n",
    "House_price13 = pd.DataFrame(list(api_price.iloc[:,1]))"
   ]
  },
  {
   "cell_type": "code",
   "execution_count": 18,
   "metadata": {
    "collapsed": true
   },
   "outputs": [],
   "source": [
    "api_homeprice = pd.concat([city_name, API,House_price13], axis=1)\n",
    "api_homeprice.columns = ['city_name', 'API','House_price13']"
   ]
  },
  {
   "cell_type": "code",
   "execution_count": 19,
   "metadata": {
    "collapsed": true
   },
   "outputs": [],
   "source": [
    "import plotly \n",
    "plotly.tools.set_credentials_file(username='', api_key='') ## Need own username and apikey"
   ]
  },
  {
   "cell_type": "markdown",
   "metadata": {},
   "source": [
    "To mark the exact geological location of cities on map, we utilize the shapefile (obtained from website: http://basemaptutorial.readthedocs.io/en/latest/shapefile.html) to gain longitude and latitude of each California city."
   ]
  },
  {
   "cell_type": "code",
   "execution_count": 20,
   "metadata": {
    "collapsed": false
   },
   "outputs": [],
   "source": [
    "# Start\n",
    "import geopandas as gpd\n",
    "ca = gpd.read_file(\"/Users/chenjingqi/Dropbox/College/2017 Winter/STA 141B/Jupyter/Project/Map_shapefile/citiesx010g_shp_nt00962/citiesx010g.shp\")"
   ]
  },
  {
   "cell_type": "code",
   "execution_count": 21,
   "metadata": {
    "collapsed": true
   },
   "outputs": [],
   "source": [
    "# Merge api_homeprice with cities' lat and lon\n",
    "ca0 = ca[ca['STATE']==\"CA\"]\n",
    "compreh_geo = pd.merge(ca0,api_homeprice,left_on='NAME',right_on='city_name',how='inner')\n",
    "lat = pd.DataFrame(list(compreh_geo['LATITUDE']))\n",
    "lon = pd.DataFrame(list(compreh_geo['LONGITUDE']))\n",
    "prep_data = pd.concat([api_homeprice, lat,lon], axis=1)\n",
    "prep_data.columns = ['city_name', 'API','House_price13','lat','lon']"
   ]
  },
  {
   "cell_type": "code",
   "execution_count": 22,
   "metadata": {
    "collapsed": true
   },
   "outputs": [],
   "source": [
    "prep_data = prep_data[np.isfinite(prep_data['lat'])] # drop rows where contains NA in lat or lon"
   ]
  },
  {
   "cell_type": "code",
   "execution_count": 23,
   "metadata": {
    "collapsed": true
   },
   "outputs": [],
   "source": [
    "# Rank by API\n",
    "prep_data = prep_data.sort_values(by=['API'])"
   ]
  },
  {
   "cell_type": "code",
   "execution_count": 24,
   "metadata": {
    "collapsed": false
   },
   "outputs": [],
   "source": [
    "# Rank by Home Price\n",
    "prep_data_rankbyhome = prep_data.sort_values(by=['House_price13'])"
   ]
  },
  {
   "cell_type": "code",
   "execution_count": 25,
   "metadata": {
    "collapsed": false
   },
   "outputs": [
    {
     "data": {
      "text/html": [
       "<iframe id=\"igraph\" scrolling=\"no\" style=\"border:none;\" seamless=\"seamless\" src=\"https://plot.ly/~YiliWang/8.embed\" height=\"525px\" width=\"100%\"></iframe>"
      ],
      "text/plain": [
       "<plotly.tools.PlotlyDisplay object>"
      ]
     },
     "execution_count": 25,
     "metadata": {},
     "output_type": "execute_result"
    }
   ],
   "source": [
    "import plotly.plotly as py\n",
    "from plotly.graph_objs import *\n",
    "\n",
    "%matplotlib inline\n",
    "\n",
    "from mpl_toolkits.basemap import Basemap\n",
    "import numpy as np\n",
    "import matplotlib.pyplot as plt\n",
    "plt.rcParams['figure.figsize'] = (12, 12)\n",
    "\n",
    "bar_data = [Bar(x=prep_data_rankbyhome.city_name,\n",
    "            y=prep_data_rankbyhome.House_price13)]\n",
    "\n",
    "py.iplot(bar_data, validate=False, filename='lala')"
   ]
  },
  {
   "cell_type": "markdown",
   "metadata": {},
   "source": [
    "From the graph we can tell that the gap between home prices are huge. (Interact with the plot to see the home price in ANY city!)"
   ]
  },
  {
   "cell_type": "markdown",
   "metadata": {},
   "source": [
    "### Interative Map: API score v.s Home Price"
   ]
  },
  {
   "cell_type": "markdown",
   "metadata": {},
   "source": [
    "In order to have a general idea about the geological distribution of public schools with different academic performance ratings and homes with distinctive price levels, we draw a map to visualize the relationship between two factors. "
   ]
  },
  {
   "cell_type": "code",
   "execution_count": 26,
   "metadata": {
    "collapsed": true
   },
   "outputs": [],
   "source": [
    "import plotly \n",
    "plotly.tools.set_credentials_file(username='', api_key='') ## Need own username and apikey"
   ]
  },
  {
   "cell_type": "code",
   "execution_count": 27,
   "metadata": {
    "collapsed": true
   },
   "outputs": [],
   "source": [
    "# Reference: http://basemaptutorial.readthedocs.io/en/latest/shapefile.html\n",
    "%matplotlib inline\n",
    "\n",
    "from mpl_toolkits.basemap import Basemap\n",
    "import numpy as np\n",
    "import matplotlib.pyplot as plt\n",
    "plt.rcParams['figure.figsize'] = (12, 12)"
   ]
  },
  {
   "cell_type": "markdown",
   "metadata": {},
   "source": [
    "For better visualization outcome, we divide the average public schools' API scores in each city into five categories: Worst(approx. lowest 12.5%), Poor (approx. 12.5%), Medium (approx. 25%), Good (approx. 25%), Excellent(approx. 25%). In addition, they are marked by different colors. On the plot, home price is represented by the size of dots. Larger dots imply higher medium home price per square foot. "
   ]
  },
  {
   "cell_type": "code",
   "execution_count": 28,
   "metadata": {
    "collapsed": true
   },
   "outputs": [],
   "source": [
    "# Read the plot\n",
    "# size of the dots: house price. Bigger, more expensive\n",
    "# color of the dots: API. 5b levels corresponding to colorscale"
   ]
  },
  {
   "cell_type": "code",
   "execution_count": 29,
   "metadata": {
    "collapsed": false
   },
   "outputs": [
    {
     "data": {
      "text/html": [
       "<iframe id=\"igraph\" scrolling=\"no\" style=\"border:none;\" seamless=\"seamless\" src=\"https://plot.ly/~YiliWang/4.embed\" height=\"525px\" width=\"100%\"></iframe>"
      ],
      "text/plain": [
       "<plotly.tools.PlotlyDisplay object>"
      ]
     },
     "execution_count": 29,
     "metadata": {},
     "output_type": "execute_result"
    }
   ],
   "source": [
    "import plotly.plotly as py\n",
    "import pandas as pd\n",
    "\n",
    "#df = pd.read_csv('https://raw.githubusercontent.com/plotly/datasets/master/2014_us_cities.csv')\n",
    "#df.head()\n",
    "\n",
    "prep_data['text'] = prep_data['city_name'] + '<br> Avg.Home Price ' + '$'+(prep_data['House_price13']).astype(str) + '/sqrft'+'<br> School Rating: '+(prep_data['API']).astype(str)\n",
    "limits = [(0,50),(51,100),(101,200),(201,300),(301,383)]\n",
    "colors = [\"light yellow\",\"rgb(8,18,28)\",\"rgb(133,20,75)\",\"rgb(255,133,27)\",\"lightgrey\"]\n",
    "#colors = ~carat\n",
    "cities = []\n",
    "scale = 5000\n",
    "name0 = [\"Worst\",\"Poor\",\"Medium\",\"Good\",\"Excellent\"]\n",
    "\n",
    "for i in range(len(limits)):\n",
    "    lim = limits[i]\n",
    "    df_sub = prep_data.iloc[lim[0]:lim[1]]\n",
    "    city = dict(\n",
    "        type = 'scattergeo',\n",
    "        locationmode = 'ISO-3',\n",
    "        lon = df_sub['lon'],\n",
    "        lat = df_sub['lat'],\n",
    "        text = df_sub['text'],\n",
    "        marker = dict(\n",
    "            size = df_sub['House_price13']/10,\n",
    "        \n",
    "            color = colors[i],\n",
    "            line = dict(width=0.5, color='rgb(40,40,40)'),\n",
    "            sizemode = 'area'\n",
    "        ),\n",
    "        #name = '{0} - {1}'.format(lim[0],lim[1]) )\n",
    "        name = name0[i])\n",
    "    cities.append(city)\n",
    "\n",
    "layout = dict(\n",
    "        title = '2013 California Public School Rating v.s Home Price<br>(Click legend to toggle traces)',\n",
    "        showlegend = True,\n",
    "        geo = dict(\n",
    "            scope='usa',\n",
    "            projection=dict( type='albers usa'),\n",
    "            resolution = 50,\n",
    "            showland = True,\n",
    "            landcolor = 'rgb(217, 217, 217)',\n",
    "            subunitwidth=1,\n",
    "            countrywidth=1,\n",
    "            subunitcolor=\"rgb(255, 255, 255)\",\n",
    "            lonaxis = dict( range= [ -135.0, -115.0 ] ),\n",
    "            lataxis = dict( range= [ 20.0, 45.0 ] ),\n",
    "            \n",
    "        ),\n",
    "    )\n",
    "\n",
    "fig = dict( data=cities, layout=layout )\n",
    "py.iplot( fig, validate=False, filename='d3-bubble-map-populations' )"
   ]
  },
  {
   "cell_type": "markdown",
   "metadata": {},
   "source": [
    "Note: This is an interactive plot. You can see detailed information about API and home price for each city in our dataset. Play with it! =)"
   ]
  },
  {
   "cell_type": "markdown",
   "metadata": {},
   "source": [
    "###### Interpretation:"
   ]
  },
  {
   "cell_type": "markdown",
   "metadata": {},
   "source": [
    "If we take a close look at one category each time (turn off/on category by clicking the legend on the map), some interesting patterns can be observed. Schools in the worst category are centered around L.A. If comparing it with the “Poor” category schools, we can see that dots become bigger in Poor, which implies the increase in home price.\n",
    "In Poor and Medium categories (only click on Poor and Medium cagtegories), the pattern of change in home price is not obvious, but schools of these two kinds are evenly located in Southern and Northern California, instead of being clustered around L.A. \n",
    "When comparing “Good” schools and “Excellent” schools(only click on Good and Excellent cagtegories), the dots become much more larger, which means the price of home increased gradually as the public school ratings increase. \n",
    "If we directly compare “Worst” to “Excellent”, the contrast in dot size (or say, home price) is much sharper. As the increase of schools’ rating, the home price increases gradually. Thus, we can say that there is positive correlation between home price and school rating."
   ]
  },
  {
   "cell_type": "markdown",
   "metadata": {},
   "source": [
    "Not surprisingly, excellent schools are centered around SF and LA. However, the overall public school quality in Northern California is more averaged and better than that in Sourthern California. "
   ]
  },
  {
   "cell_type": "markdown",
   "metadata": {},
   "source": [
    "## VI. Crime and House Price"
   ]
  },
  {
   "cell_type": "markdown",
   "metadata": {},
   "source": [
    "Next, we want to examine that if there is any relationship between crime and house price.  \n",
    "We first do some data selection for this purpose."
   ]
  },
  {
   "cell_type": "code",
   "execution_count": 31,
   "metadata": {
    "collapsed": false
   },
   "outputs": [],
   "source": [
    "_2013 = price.columns[208:220]\n",
    "casqft = price[price['State']=='CA']\n",
    "price13 = casqft[_2013]\n",
    "price13.loc[:,'Mean Price'] = price13.mean(1)\n",
    "price13.loc[:,'City'] = casqft['City']\n",
    "price13=price13.groupby('City').mean()"
   ]
  },
  {
   "cell_type": "code",
   "execution_count": 32,
   "metadata": {
    "collapsed": true
   },
   "outputs": [],
   "source": [
    "crime_price = pd.DataFrame({'City': list(price13.index), 'Mean Price': list(price13['Mean Price'])})"
   ]
  },
  {
   "cell_type": "code",
   "execution_count": 33,
   "metadata": {
    "collapsed": true
   },
   "outputs": [],
   "source": [
    "crime = pd.read_excel(\"table_8_offenses_known_to_law_enforcement_california_by_city_2013.xls\")\n",
    "crime.columns=['City', 'Population', 'Violent',\n",
    "       'Murder','Rape1', 'Rape',\n",
    "       'Robbery', 'Aggravated assault', 'Property crime', 'Burglary',\n",
    "       'Larceny theft', 'Motor vehicle theft', 'Arson']\n",
    "crime_name=['Murder', 'Rape','Robbery', 'Aggravated assault', 'Property crime',\n",
    "            'Burglary','Larceny theft', 'Motor vehicle theft', 'Arson']\n",
    "#crime[crime_name] = crime[crime_name].astype(int)\n",
    "weights=[70.42,10.47,5.83,4.05,1.87,1.39,.37,.37,.16]\n",
    "weighted_list=[]\n",
    "not_weighted=[]\n",
    "for name,weight in zip(crime_name,weights):\n",
    "    weighted_list.append(crime[name].values*weight)\n",
    "    not_weighted.append(crime[name].values)\n",
    "weighted_crime=np.sum(weighted_list,axis=0)\n",
    "not_weighted_crime=np.sum(not_weighted,axis=0)\n",
    "crime['weighted_crime']=weighted_crime\n",
    "crime['not_weighted_crime']=not_weighted_crime"
   ]
  },
  {
   "cell_type": "code",
   "execution_count": 34,
   "metadata": {
    "collapsed": true
   },
   "outputs": [],
   "source": [
    "total_data_crime=pd.merge(crime_price,crime,left_on='City',right_on='City',how='inner')"
   ]
  },
  {
   "cell_type": "code",
   "execution_count": 35,
   "metadata": {
    "collapsed": true
   },
   "outputs": [],
   "source": [
    "total_data_crime = total_data_crime.sort_values(by=['Mean Price'])"
   ]
  },
  {
   "cell_type": "markdown",
   "metadata": {},
   "source": [
    "### Scatter plot of crime occurrence and house price"
   ]
  },
  {
   "cell_type": "code",
   "execution_count": 36,
   "metadata": {
    "collapsed": false
   },
   "outputs": [
    {
     "data": {
      "text/html": [
       "<iframe id=\"igraph\" scrolling=\"no\" style=\"border:none;\" seamless=\"seamless\" src=\"https://plot.ly/~YiliWang/12.embed\" height=\"525px\" width=\"100%\"></iframe>"
      ],
      "text/plain": [
       "<plotly.tools.PlotlyDisplay object>"
      ]
     },
     "execution_count": 36,
     "metadata": {},
     "output_type": "execute_result"
    }
   ],
   "source": [
    "import plotly.plotly as py\n",
    "import plotly.graph_objs as go\n",
    "\n",
    "\n",
    "trace1 = go.Scatter(\n",
    "    x = total_data_crime['Violent'],\n",
    "    y = total_data_crime['Mean Price'],\n",
    "    mode='markers',\n",
    "    name='Violent',\n",
    "    marker=dict(\n",
    "        color='rgba(156, 165, 196, 0.95)',\n",
    "        symbol='circle',\n",
    "        size=5,\n",
    "    ),\n",
    "    text= total_data_crime['City']\n",
    ")\n",
    "trace2 = go.Scatter(\n",
    "    x = total_data_crime['Murder'],\n",
    "    y = total_data_crime['Mean Price'],\n",
    "    mode='markers',\n",
    "    name='Murder',\n",
    "    marker=dict(\n",
    "        #color='rgba(204, 204, 204, 0.95)',\n",
    "        symbol='circle',\n",
    "        size=5,\n",
    "    ),\n",
    "    text= total_data_crime['City']\n",
    ")\n",
    "trace3 = go.Scatter(\n",
    "    x = total_data_crime['Rape'],\n",
    "    y = total_data_crime['Mean Price'],\n",
    "    mode='markers',\n",
    "    name='Rape',\n",
    "    marker=dict(\n",
    "        #color='rgba(156, 165, 196, 0.95)',\n",
    "        symbol='circle',\n",
    "        size=5,\n",
    "    ),\n",
    "    text= total_data_crime['City']\n",
    ")\n",
    "trace4 = go.Scatter(\n",
    "    x = total_data_crime['Robbery'],\n",
    "    y = total_data_crime['Mean Price'],\n",
    "    mode='markers',\n",
    "    name='Robbery',\n",
    "    marker=dict(\n",
    "        #color='rgba(156, 165, 196, 0.95)',\n",
    "        symbol='circle',\n",
    "        size=5,\n",
    "    ),\n",
    "    text= total_data_crime['City']\n",
    ")\n",
    "trace5 = go.Scatter(\n",
    "    x = total_data_crime['Aggravated assault'],\n",
    "    y = total_data_crime['Mean Price'],\n",
    "    mode='markers',\n",
    "    name='Aggravated assault',\n",
    "    marker=dict(\n",
    "        #color='rgba(156, 165, 196, 0.95)',\n",
    "        symbol='circle',\n",
    "        size=5,\n",
    "    ),\n",
    "    text= total_data_crime['City']\n",
    ")\n",
    "trace6 = go.Scatter(\n",
    "    x = total_data_crime['Property crime'],\n",
    "    y = total_data_crime['Mean Price'],\n",
    "    mode='markers',\n",
    "    name='Property crime',\n",
    "    marker=dict(\n",
    "        #color='rgba(156, 165, 196, 0.95)',\n",
    "        symbol='circle',\n",
    "        size=5,\n",
    "    ),\n",
    "    text= total_data_crime['City']\n",
    ")\n",
    "trace7 = go.Scatter(\n",
    "    x = total_data_crime['Burglary'],\n",
    "    y = total_data_crime['Mean Price'],\n",
    "    mode='markers',\n",
    "    name='Burglary',\n",
    "    marker=dict(\n",
    "        #color='rgba(156, 165, 196, 0.95)',\n",
    "        symbol='circle',\n",
    "        size=5,\n",
    "    ),\n",
    "    text= total_data_crime['City']\n",
    ")\n",
    "trace8 = go.Scatter(\n",
    "    x = total_data_crime['Larceny theft'],\n",
    "    y = total_data_crime['Mean Price'],\n",
    "    mode='markers',\n",
    "    name='Larceny theft',\n",
    "    marker=dict(\n",
    "        #color='rgba(156, 165, 196, 0.95)',\n",
    "        symbol='circle',\n",
    "        size=5,\n",
    "    ),\n",
    "    text= total_data_crime['City']\n",
    ")\n",
    "trace9 = go.Scatter(\n",
    "    x = total_data_crime['Motor vehicle theft'],\n",
    "    y = total_data_crime['Mean Price'],\n",
    "    mode='markers',\n",
    "    name='Motor vehicle theft',\n",
    "    marker=dict(\n",
    "        #color='rgba(156, 165, 196, 0.95)',\n",
    "        symbol='circle',\n",
    "        size=5,\n",
    "    ),\n",
    "    text= total_data_crime['City']\n",
    ")\n",
    "trace10 = go.Scatter(\n",
    "    x = total_data_crime['Arson'],\n",
    "    y = total_data_crime['Mean Price'],\n",
    "    mode='markers',\n",
    "    name='Arson',\n",
    "    marker=dict(\n",
    "        #color='rgba(156, 165, 196, 0.95)',\n",
    "        symbol='circle',\n",
    "        size=5,\n",
    "    ),\n",
    "    text= total_data_crime['City']\n",
    ")\n",
    "\n",
    "data = [trace1, trace2, trace3, trace4, trace5, trace6, trace7, trace8, trace9, trace10]\n",
    "\n",
    "layout = go.Layout(\n",
    "    title=\"Occurrence of different crime type vs Median Price\",\n",
    "    yaxis=dict(\n",
    "        title='Median House Price'\n",
    "    ),\n",
    "    xaxis=dict(\n",
    "        title='Frequency of Crime'\n",
    "    ),\n",
    "    \n",
    ")\n",
    "fig = go.Figure(data=data, layout=layout)\n",
    "py.iplot(fig, filename='crimemedianprice')"
   ]
  },
  {
   "cell_type": "markdown",
   "metadata": {},
   "source": [
    "In order to have a first impression about the relationship between crime and house price, we plot the scatter plot of different crime types occurrences vs house price. From the plot, we can see there are some outliers. Therefore, we might need to figure out those outliers and exclued those in our analysis.  \n",
    "  \n",
    "From the plot, there is no direct linear relationship between each crime occurrence and house price. Therefore, we want to see if there is any trend in crime occurrence and house price. We'll plot a stacked bar plot and the house price in the same plot to figure it out. "
   ]
  },
  {
   "cell_type": "markdown",
   "metadata": {},
   "source": [
    "### Barplot of crime and house price"
   ]
  },
  {
   "cell_type": "code",
   "execution_count": 37,
   "metadata": {
    "collapsed": true
   },
   "outputs": [],
   "source": [
    "import plotly \n",
    "plotly.tools.set_credentials_file(username='', api_key='') ## Need own username and apikey"
   ]
  },
  {
   "cell_type": "code",
   "execution_count": 38,
   "metadata": {
    "collapsed": false
   },
   "outputs": [
    {
     "data": {
      "text/html": [
       "<iframe id=\"igraph\" scrolling=\"no\" style=\"border:none;\" seamless=\"seamless\" src=\"https://plot.ly/~cjacquelineq/2.embed\" height=\"525px\" width=\"100%\"></iframe>"
      ],
      "text/plain": [
       "<plotly.tools.PlotlyDisplay object>"
      ]
     },
     "execution_count": 38,
     "metadata": {},
     "output_type": "execute_result"
    }
   ],
   "source": [
    "import plotly.plotly as py\n",
    "import plotly.graph_objs as go\n",
    "\n",
    "trace1 = go.Bar(\n",
    "    x=total_data_crime['City'],\n",
    "    y=total_data_crime['Violent'],\n",
    "    name='Violent',\n",
    "    yaxis = 'y1',\n",
    "    marker=dict(color='rgb(158,202,225)')\n",
    ")\n",
    "trace2 = go.Bar(\n",
    "    x=total_data_crime['City'],\n",
    "    y=total_data_crime['Murder'],\n",
    "    name='Murder',\n",
    "    yaxis = 'y1'\n",
    ")\n",
    "\n",
    "trace3 = go.Bar(\n",
    "    x=total_data_crime['City'],\n",
    "    y=total_data_crime['Rape'],\n",
    "    name='Rape',\n",
    "    yaxis = 'y1'\n",
    ")\n",
    "\n",
    "trace4 = go.Bar(\n",
    "    x=total_data_crime['City'],\n",
    "    y=total_data_crime['Robbery'],\n",
    "    name='Robbery',\n",
    "    yaxis = 'y1'\n",
    ")\n",
    "\n",
    "trace5 = go.Bar(\n",
    "    x=total_data_crime['City'],\n",
    "    y=total_data_crime['Aggravated assault'],\n",
    "    name='Aggravated assault',\n",
    "    yaxis = 'y1'\n",
    ")\n",
    "\n",
    "trace6 = go.Bar(\n",
    "    x=total_data_crime['City'],\n",
    "    y=total_data_crime['Property crime'],\n",
    "    name='Property crime',\n",
    "    yaxis = 'y1'\n",
    ")\n",
    "\n",
    "trace7 = go.Bar(\n",
    "    x=total_data_crime['City'],\n",
    "    y=total_data_crime['Burglary'],\n",
    "    name='Burglary',\n",
    "    yaxis = 'y1'\n",
    ")\n",
    "\n",
    "trace8 = go.Bar(\n",
    "    x=total_data_crime['City'],\n",
    "    y=total_data_crime['Larceny theft'],\n",
    "    name='Larceny theft',\n",
    "    yaxis = 'y1'\n",
    ")\n",
    "\n",
    "trace9 = go.Bar(\n",
    "    x=total_data_crime['City'],\n",
    "    y=total_data_crime['Motor vehicle theft'],\n",
    "    name='Motor vehicle theft',\n",
    "    yaxis = 'y1'\n",
    ")\n",
    "\n",
    "trace10 = go.Bar(\n",
    "    x=total_data_crime['City'],\n",
    "    y=total_data_crime['Arson'],\n",
    "    name='Arson',\n",
    "    yaxis = 'y1'\n",
    ")\n",
    "\n",
    "trace11 = go.Scatter(\n",
    "    x = total_data_crime['City'],\n",
    "    y = total_data_crime['Mean Price'],\n",
    "    name='House Median Price',\n",
    "    yaxis='y2'\n",
    ")\n",
    "\n",
    "data = [trace1, trace2, trace3, trace4, trace5, trace6, trace7, trace8, trace9, trace10, trace11]\n",
    "\n",
    "layout = go.Layout(\n",
    "    barmode='stack',\n",
    "    legend=dict(\n",
    "        x=0.01,\n",
    "        y=1\n",
    "    ),\n",
    "    yaxis1=dict(\n",
    "        title='Crime',\n",
    "        titlefont=dict(\n",
    "            color='#ff7f0e'\n",
    "        ),\n",
    "        tickfont=dict(\n",
    "            color='#ff7f0e'\n",
    "        )\n",
    "    ),\n",
    "    yaxis2=dict(\n",
    "        title='House Median Price',\n",
    "        titlefont=dict(\n",
    "            color='#1f77b4'\n",
    "        ),\n",
    "        tickfont=dict(\n",
    "            color='#1f77b4'\n",
    "        ),\n",
    "        anchor='x',\n",
    "        overlaying='y',\n",
    "        side='right',\n",
    "        position=0.75\n",
    "    )\n",
    ")\n",
    "\n",
    "fig = go.Figure(data=data, layout=layout)\n",
    "py.iplot(fig, filename='marker-h-bar')\n",
    "#py.image.save_as(fig, 'totalcrimeandhouseprice.png')"
   ]
  },
  {
   "cell_type": "markdown",
   "metadata": {},
   "source": [
    "###### Interpretation:\n",
    "In the plot, the blue curve is the house price and the y axis for house price is on the right.  \n",
    "  \n",
    "There is also stacked bar plot in the graph indicating the occurrences of each crime type. From the stacked bar plot, we can see Los Angeles has the most occurences of crime, while San Francisco is the next. \n",
    "  \n",
    "When exclude those super metropolis in the graph, we can divide the graph into three parts (when we drag the part in the graph to zoom in):  \n",
    "1. The first part is the rightmost part of the cities in the plot. Those cities have higher house price and lower occurrences of crime.  \n",
    "2. The second part is the cities in the middle of the plot. The house price of those cities are in the middle and the crime occurrences of those cities are also in the middle.  \n",
    "3. The third part is the leftmost cities of the plot. They have lowest house price and relatively higher crime occurrences compared to other parts in the plot.  \n",
    "\n",
    "Therefore, we may be able to conclude that there is a negative relationship between crime occurrence and house price in California. "
   ]
  },
  {
   "cell_type": "markdown",
   "metadata": {},
   "source": [
    "## VII. NLTK (Sentiment Analysis) News vs house price"
   ]
  },
  {
   "cell_type": "markdown",
   "metadata": {},
   "source": [
    "In this section, we want to know the affect house price on news. We frist extract some housing news headlines and their release time from Cnbc . We then process each of the headlind we extract in order to find each sentiment score, 0 is negative and 1 is positive. Next, We find the mean of sentiment score of each month then merege them the price/feet of each month."
   ]
  },
  {
   "cell_type": "code",
   "execution_count": 6,
   "metadata": {
    "collapsed": false
   },
   "outputs": [
    {
     "name": "stderr",
     "output_type": "stream",
     "text": [
      "/Users/kawoontam/anaconda/lib/python2.7/site-packages/nltk/twitter/__init__.py:20: UserWarning: The twython library has not been installed. Some functionality from the twitter package will not be available.\n",
      "  warnings.warn(\"The twython library has not been installed. \"\n"
     ]
    }
   ],
   "source": [
    "import nltk\n",
    "import pandas as pd\n",
    "import unicodedata\n",
    "from lxml import html\n",
    "import requests\n",
    "import numpy as np\n",
    "import os\n",
    "from nltk.sentiment.vader import SentimentIntensityAnalyzer as sia\n",
    "import requests_cache\n",
    "from os import path\n",
    "from sklearn.ensemble import RandomForestClassifier\n",
    "from sklearn.feature_extraction.text import CountVectorizer\n",
    "from KaggleWord2VecUtility import KaggleWord2VecUtility\n",
    "from urllib2 import Request, urlopen\n",
    "from urlparse import urlparse, urlunparse\n",
    "import json\n",
    "from urllib2 import Request, urlopen\n",
    "import urllib2\n",
    "import re\n",
    "from bs4 import BeautifulSoup\n",
    "requests_cache.install_cache('coll_cache')"
   ]
  },
  {
   "cell_type": "markdown",
   "metadata": {},
   "source": [
    "Web scraping:\n",
    "We use the following code to extract the headlines from the cnbc.com/housing."
   ]
  },
  {
   "cell_type": "code",
   "execution_count": 7,
   "metadata": {
    "collapsed": true
   },
   "outputs": [],
   "source": [
    "# web scraping\n",
    "# Find all the titles and dates on each page.\n",
    "titles=[]\n",
    "times =[]\n",
    "opener = urllib2.build_opener()\n",
    "for i in range(1,54):\n",
    "    url = 'http://www.cnbc.com/housing/?page='+str(i)\n",
    "    soup = BeautifulSoup(opener.open(url), \"lxml\")\n",
    "    time = soup.find_all('time')\n",
    "    times = times + ['-'.join(str(i).split()[2:4]) for i in time][4:]\n",
    "    titles =titles + [' '.join(title.get_text().split()) for title in soup.find_all('div', {'class' : 'headline'})][4:]"
   ]
  },
  {
   "cell_type": "code",
   "execution_count": 8,
   "metadata": {
    "collapsed": true
   },
   "outputs": [],
   "source": [
    "# save data to data frame then output to an excel\n",
    "whole = pd.DataFrame({'titles':titles,'times':times})\n",
    "whole = whole.T\n",
    "writer = pd.ExcelWriter('output.xlsx')\n",
    "whole.to_excel(writer,'Sheet1')\n",
    "writer.save()"
   ]
  },
  {
   "cell_type": "code",
   "execution_count": 9,
   "metadata": {
    "collapsed": true
   },
   "outputs": [],
   "source": [
    "price = pd.read_csv(\"City_MedianValuePerSqft_AllHomes.csv\")"
   ]
  },
  {
   "cell_type": "markdown",
   "metadata": {},
   "source": [
    "Here we decided to built our own setiment analysis model since the build-in sentiment tool in NLTK is not so accurate."
   ]
  },
  {
   "cell_type": "code",
   "execution_count": 25,
   "metadata": {
    "collapsed": false
   },
   "outputs": [],
   "source": [
    "# We read output.xlsx, which we add 100 correct data.\n",
    "new1 = pd.read_excel(\"output.xlsx\")\n",
    "train = new1.dropna()\n",
    "test = new1[new1['po-neg'].isnull()]"
   ]
  },
  {
   "cell_type": "code",
   "execution_count": 26,
   "metadata": {
    "collapsed": false
   },
   "outputs": [
    {
     "name": "stderr",
     "output_type": "stream",
     "text": [
      "/Users/kawoontam/anaconda/lib/python2.7/site-packages/pandas/core/generic.py:2773: SettingWithCopyWarning: \n",
      "A value is trying to be set on a copy of a slice from a DataFrame.\n",
      "Try using .loc[row_indexer,col_indexer] = value instead\n",
      "\n",
      "See the caveats in the documentation: http://pandas.pydata.org/pandas-docs/stable/indexing.html#indexing-view-versus-copy\n",
      "  self[name] = value\n"
     ]
    }
   ],
   "source": [
    "# building training set\n",
    "train.titles = train.titles.apply(lambda x: unicodedata.normalize('NFKD', x).encode('ascii','ignore'))\n",
    "train = train.reset_index(drop=True)\n",
    "train['po-neg'] = train['po-neg'].astype(dtype = np.int64)"
   ]
  },
  {
   "cell_type": "code",
   "execution_count": 27,
   "metadata": {
    "collapsed": false
   },
   "outputs": [],
   "source": [
    "# building testing set\n",
    "test.titles = test.titles.apply(lambda x: unicodedata.normalize('NFKD', x).encode('ascii','ignore'))\n",
    "test = test.reset_index(drop = True)"
   ]
  },
  {
   "cell_type": "code",
   "execution_count": 28,
   "metadata": {
    "collapsed": false
   },
   "outputs": [
    {
     "name": "stdout",
     "output_type": "stream",
     "text": [
      "Cleaning and parsing the training set news heading...\n",
      "\n"
     ]
    },
    {
     "name": "stderr",
     "output_type": "stream",
     "text": [
      "/Users/kawoontam/anaconda/lib/python2.7/site-packages/bs4/__init__.py:181: UserWarning: No parser was explicitly specified, so I'm using the best available HTML parser for this system (\"lxml\"). This usually isn't a problem, but if you run this code on another system, or in a different virtual environment, it may use a different parser and behave differently.\n",
      "\n",
      "The code that caused this warning is on line 174 of the file /Users/kawoontam/anaconda/lib/python2.7/runpy.py. To get rid of this warning, change code that looks like this:\n",
      "\n",
      " BeautifulSoup([your markup])\n",
      "\n",
      "to this:\n",
      "\n",
      " BeautifulSoup([your markup], \"lxml\")\n",
      "\n",
      "  markup_type=markup_type))\n"
     ]
    }
   ],
   "source": [
    "# denoise the training data\n",
    "clean_train_reviews = []\n",
    "print \"Cleaning and parsing the training set news heading...\\n\"\n",
    "for i in xrange(0, len(train[\"titles\"])):\n",
    "    clean_train_reviews.append(\" \".join(KaggleWord2VecUtility.review_to_wordlist(train[\"titles\"][i],True)))"
   ]
  },
  {
   "cell_type": "markdown",
   "metadata": {},
   "source": [
    "### Tokenize "
   ]
  },
  {
   "cell_type": "code",
   "execution_count": 29,
   "metadata": {
    "collapsed": false
   },
   "outputs": [
    {
     "name": "stdout",
     "output_type": "stream",
     "text": [
      "Creating the bag of words...\n",
      "\n"
     ]
    }
   ],
   "source": [
    "# tokenize the tarining data set\n",
    "print \"Creating the bag of words...\\n\"\n",
    "vectorizer = CountVectorizer(analyzer = \"word\",   \\\n",
    "                            tokenizer = None,    \\\n",
    "                            preprocessor = None, \\\n",
    "                            stop_words = None,   \\\n",
    "                            max_features = 4000)"
   ]
  },
  {
   "cell_type": "markdown",
   "metadata": {},
   "source": [
    "### RandomForestClassifier:\n",
    "We use RandomForestClassifier in the sklearn package. We set the number of estimators to 100, which consisting of one hundred trees a random forest is a set of decision tree. Decision tree are graphs that model the possibilities of certain outcomes. \n",
    "\n",
    "In this case, we input train set to generate this 100 trees."
   ]
  },
  {
   "cell_type": "code",
   "execution_count": 30,
   "metadata": {
    "collapsed": true
   },
   "outputs": [],
   "source": [
    "train_data_features = vectorizer.fit_transform(clean_train_reviews)\n",
    "train_data_features = train_data_features.toarray()\n",
    "forest = RandomForestClassifier(n_estimators = 100)\n",
    "forest = forest.fit( train_data_features, train[\"po-neg\"])"
   ]
  },
  {
   "cell_type": "code",
   "execution_count": 31,
   "metadata": {
    "collapsed": false
   },
   "outputs": [
    {
     "name": "stdout",
     "output_type": "stream",
     "text": [
      "Cleaning and parsing the test set headline...\n",
      "\n"
     ]
    }
   ],
   "source": [
    "# denoise the testing data set\n",
    "clean_test_reviews = []\n",
    "print \"Cleaning and parsing the test set headline...\\n\"\n",
    "for i in xrange(0,len(test[\"titles\"])):\n",
    "    clean_test_reviews.append(\" \".join(KaggleWord2VecUtility.review_to_wordlist(test[\"titles\"][i], True)))"
   ]
  },
  {
   "cell_type": "code",
   "execution_count": 32,
   "metadata": {
    "collapsed": true
   },
   "outputs": [],
   "source": [
    "test_data_features = vectorizer.transform(clean_test_reviews)\n",
    "test_data_features = test_data_features.toarray() "
   ]
  },
  {
   "cell_type": "code",
   "execution_count": 33,
   "metadata": {
    "collapsed": false
   },
   "outputs": [
    {
     "name": "stdout",
     "output_type": "stream",
     "text": [
      "Predicting test label...\n",
      "\n"
     ]
    }
   ],
   "source": [
    "# create a classifer\n",
    "# predict the result of testing set by the classifer\n",
    "# save result to a data frame.\n",
    "print \"Predicting test label...\\n\"\n",
    "result = forest.predict(test_data_features)\n",
    "output = pd.DataFrame( data={\"titles\":test[\"titles\"], \"po-neg\":result} )"
   ]
  },
  {
   "cell_type": "code",
   "execution_count": 34,
   "metadata": {
    "collapsed": true
   },
   "outputs": [],
   "source": [
    "previous_value = list(train['po-neg'].values)\n",
    "previous_value = previous_value+list(output['po-neg'].values)\n",
    "new1['po-neg']= previous_value"
   ]
  },
  {
   "cell_type": "code",
   "execution_count": 35,
   "metadata": {
    "collapsed": true
   },
   "outputs": [],
   "source": [
    "new1.titles = new1.titles.apply(lambda x: unicodedata.normalize('NFKD', x).encode('ascii','ignore'))\n",
    "new1.to_csv(\"sentiment_result.csv\")\n",
    "means = new1.groupby(\"times\").mean()\n",
    "means.to_csv(\"mean.csv\")"
   ]
  },
  {
   "cell_type": "markdown",
   "metadata": {},
   "source": [
    "The following data frame shows the mean of sentiment score of each month. The setiment status is positive if the sentiment score it above 0.5, otherwise."
   ]
  },
  {
   "cell_type": "code",
   "execution_count": 43,
   "metadata": {
    "collapsed": false
   },
   "outputs": [
    {
     "data": {
      "text/html": [
       "<div>\n",
       "<table border=\"1\" class=\"dataframe\">\n",
       "  <thead>\n",
       "    <tr style=\"text-align: right;\">\n",
       "      <th></th>\n",
       "      <th>Unnamed: 0</th>\n",
       "      <th>times</th>\n",
       "      <th>po-neg</th>\n",
       "    </tr>\n",
       "  </thead>\n",
       "  <tbody>\n",
       "    <tr>\n",
       "      <th>0</th>\n",
       "      <td>0</td>\n",
       "      <td>2014-06</td>\n",
       "      <td>1.000000</td>\n",
       "    </tr>\n",
       "    <tr>\n",
       "      <th>1</th>\n",
       "      <td>1</td>\n",
       "      <td>2014-11</td>\n",
       "      <td>1.000000</td>\n",
       "    </tr>\n",
       "    <tr>\n",
       "      <th>2</th>\n",
       "      <td>2</td>\n",
       "      <td>2015-03</td>\n",
       "      <td>1.000000</td>\n",
       "    </tr>\n",
       "    <tr>\n",
       "      <th>3</th>\n",
       "      <td>3</td>\n",
       "      <td>2015-05</td>\n",
       "      <td>1.000000</td>\n",
       "    </tr>\n",
       "    <tr>\n",
       "      <th>4</th>\n",
       "      <td>4</td>\n",
       "      <td>2015-10</td>\n",
       "      <td>1.000000</td>\n",
       "    </tr>\n",
       "    <tr>\n",
       "      <th>5</th>\n",
       "      <td>5</td>\n",
       "      <td>2015-12</td>\n",
       "      <td>1.000000</td>\n",
       "    </tr>\n",
       "    <tr>\n",
       "      <th>6</th>\n",
       "      <td>6</td>\n",
       "      <td>2016-01</td>\n",
       "      <td>0.847826</td>\n",
       "    </tr>\n",
       "    <tr>\n",
       "      <th>7</th>\n",
       "      <td>7</td>\n",
       "      <td>2016-02</td>\n",
       "      <td>0.910714</td>\n",
       "    </tr>\n",
       "    <tr>\n",
       "      <th>8</th>\n",
       "      <td>8</td>\n",
       "      <td>2016-03</td>\n",
       "      <td>0.912500</td>\n",
       "    </tr>\n",
       "    <tr>\n",
       "      <th>9</th>\n",
       "      <td>9</td>\n",
       "      <td>2016-04</td>\n",
       "      <td>0.886076</td>\n",
       "    </tr>\n",
       "    <tr>\n",
       "      <th>10</th>\n",
       "      <td>10</td>\n",
       "      <td>2016-05</td>\n",
       "      <td>0.941176</td>\n",
       "    </tr>\n",
       "    <tr>\n",
       "      <th>11</th>\n",
       "      <td>11</td>\n",
       "      <td>2016-06</td>\n",
       "      <td>0.858696</td>\n",
       "    </tr>\n",
       "    <tr>\n",
       "      <th>12</th>\n",
       "      <td>12</td>\n",
       "      <td>2016-07</td>\n",
       "      <td>0.927711</td>\n",
       "    </tr>\n",
       "    <tr>\n",
       "      <th>13</th>\n",
       "      <td>13</td>\n",
       "      <td>2016-08</td>\n",
       "      <td>0.849462</td>\n",
       "    </tr>\n",
       "    <tr>\n",
       "      <th>14</th>\n",
       "      <td>14</td>\n",
       "      <td>2016-09</td>\n",
       "      <td>0.875000</td>\n",
       "    </tr>\n",
       "    <tr>\n",
       "      <th>15</th>\n",
       "      <td>15</td>\n",
       "      <td>2016-10</td>\n",
       "      <td>0.850746</td>\n",
       "    </tr>\n",
       "    <tr>\n",
       "      <th>16</th>\n",
       "      <td>16</td>\n",
       "      <td>2016-11</td>\n",
       "      <td>0.857143</td>\n",
       "    </tr>\n",
       "    <tr>\n",
       "      <th>17</th>\n",
       "      <td>17</td>\n",
       "      <td>2016-12</td>\n",
       "      <td>0.910714</td>\n",
       "    </tr>\n",
       "    <tr>\n",
       "      <th>18</th>\n",
       "      <td>18</td>\n",
       "      <td>2017-01</td>\n",
       "      <td>0.800000</td>\n",
       "    </tr>\n",
       "    <tr>\n",
       "      <th>19</th>\n",
       "      <td>19</td>\n",
       "      <td>2017-02</td>\n",
       "      <td>0.530303</td>\n",
       "    </tr>\n",
       "    <tr>\n",
       "      <th>20</th>\n",
       "      <td>20</td>\n",
       "      <td>2017-03</td>\n",
       "      <td>0.677419</td>\n",
       "    </tr>\n",
       "  </tbody>\n",
       "</table>\n",
       "</div>"
      ],
      "text/plain": [
       "    Unnamed: 0    times    po-neg\n",
       "0            0  2014-06  1.000000\n",
       "1            1  2014-11  1.000000\n",
       "2            2  2015-03  1.000000\n",
       "3            3  2015-05  1.000000\n",
       "4            4  2015-10  1.000000\n",
       "5            5  2015-12  1.000000\n",
       "6            6  2016-01  0.847826\n",
       "7            7  2016-02  0.910714\n",
       "8            8  2016-03  0.912500\n",
       "9            9  2016-04  0.886076\n",
       "10          10  2016-05  0.941176\n",
       "11          11  2016-06  0.858696\n",
       "12          12  2016-07  0.927711\n",
       "13          13  2016-08  0.849462\n",
       "14          14  2016-09  0.875000\n",
       "15          15  2016-10  0.850746\n",
       "16          16  2016-11  0.857143\n",
       "17          17  2016-12  0.910714\n",
       "18          18  2017-01  0.800000\n",
       "19          19  2017-02  0.530303\n",
       "20          20  2017-03  0.677419"
      ]
     },
     "execution_count": 43,
     "metadata": {},
     "output_type": "execute_result"
    }
   ],
   "source": [
    "mean=pd.read_csv(\"mean.csv\")\n",
    "mean"
   ]
  },
  {
   "cell_type": "code",
   "execution_count": 45,
   "metadata": {
    "collapsed": false
   },
   "outputs": [
    {
     "data": {
      "text/html": [
       "<div>\n",
       "<table border=\"1\" class=\"dataframe\">\n",
       "  <thead>\n",
       "    <tr style=\"text-align: right;\">\n",
       "      <th></th>\n",
       "      <th>0</th>\n",
       "      <th>Unnamed: 0</th>\n",
       "      <th>times</th>\n",
       "      <th>po-neg</th>\n",
       "    </tr>\n",
       "  </thead>\n",
       "  <tbody>\n",
       "    <tr>\n",
       "      <th>0</th>\n",
       "      <td>132.906508</td>\n",
       "      <td>0</td>\n",
       "      <td>2014-06</td>\n",
       "      <td>1.000000</td>\n",
       "    </tr>\n",
       "    <tr>\n",
       "      <th>1</th>\n",
       "      <td>135.155751</td>\n",
       "      <td>1</td>\n",
       "      <td>2014-11</td>\n",
       "      <td>1.000000</td>\n",
       "    </tr>\n",
       "    <tr>\n",
       "      <th>2</th>\n",
       "      <td>137.200564</td>\n",
       "      <td>2</td>\n",
       "      <td>2015-03</td>\n",
       "      <td>1.000000</td>\n",
       "    </tr>\n",
       "    <tr>\n",
       "      <th>3</th>\n",
       "      <td>138.489293</td>\n",
       "      <td>3</td>\n",
       "      <td>2015-05</td>\n",
       "      <td>1.000000</td>\n",
       "    </tr>\n",
       "    <tr>\n",
       "      <th>4</th>\n",
       "      <td>141.643476</td>\n",
       "      <td>4</td>\n",
       "      <td>2015-10</td>\n",
       "      <td>1.000000</td>\n",
       "    </tr>\n",
       "    <tr>\n",
       "      <th>5</th>\n",
       "      <td>142.790557</td>\n",
       "      <td>5</td>\n",
       "      <td>2015-12</td>\n",
       "      <td>1.000000</td>\n",
       "    </tr>\n",
       "    <tr>\n",
       "      <th>6</th>\n",
       "      <td>143.340332</td>\n",
       "      <td>6</td>\n",
       "      <td>2016-01</td>\n",
       "      <td>0.847826</td>\n",
       "    </tr>\n",
       "    <tr>\n",
       "      <th>7</th>\n",
       "      <td>143.953097</td>\n",
       "      <td>7</td>\n",
       "      <td>2016-02</td>\n",
       "      <td>0.910714</td>\n",
       "    </tr>\n",
       "    <tr>\n",
       "      <th>8</th>\n",
       "      <td>144.603573</td>\n",
       "      <td>8</td>\n",
       "      <td>2016-03</td>\n",
       "      <td>0.912500</td>\n",
       "    </tr>\n",
       "    <tr>\n",
       "      <th>9</th>\n",
       "      <td>145.207772</td>\n",
       "      <td>9</td>\n",
       "      <td>2016-04</td>\n",
       "      <td>0.886076</td>\n",
       "    </tr>\n",
       "    <tr>\n",
       "      <th>10</th>\n",
       "      <td>145.763293</td>\n",
       "      <td>10</td>\n",
       "      <td>2016-05</td>\n",
       "      <td>0.941176</td>\n",
       "    </tr>\n",
       "    <tr>\n",
       "      <th>11</th>\n",
       "      <td>146.256973</td>\n",
       "      <td>11</td>\n",
       "      <td>2016-06</td>\n",
       "      <td>0.858696</td>\n",
       "    </tr>\n",
       "    <tr>\n",
       "      <th>12</th>\n",
       "      <td>146.788990</td>\n",
       "      <td>12</td>\n",
       "      <td>2016-07</td>\n",
       "      <td>0.927711</td>\n",
       "    </tr>\n",
       "    <tr>\n",
       "      <th>13</th>\n",
       "      <td>147.467043</td>\n",
       "      <td>13</td>\n",
       "      <td>2016-08</td>\n",
       "      <td>0.849462</td>\n",
       "    </tr>\n",
       "    <tr>\n",
       "      <th>14</th>\n",
       "      <td>148.309830</td>\n",
       "      <td>14</td>\n",
       "      <td>2016-09</td>\n",
       "      <td>0.875000</td>\n",
       "    </tr>\n",
       "    <tr>\n",
       "      <th>15</th>\n",
       "      <td>149.255092</td>\n",
       "      <td>15</td>\n",
       "      <td>2016-10</td>\n",
       "      <td>0.850746</td>\n",
       "    </tr>\n",
       "    <tr>\n",
       "      <th>16</th>\n",
       "      <td>150.215711</td>\n",
       "      <td>16</td>\n",
       "      <td>2016-11</td>\n",
       "      <td>0.857143</td>\n",
       "    </tr>\n",
       "    <tr>\n",
       "      <th>17</th>\n",
       "      <td>151.091821</td>\n",
       "      <td>17</td>\n",
       "      <td>2016-12</td>\n",
       "      <td>0.910714</td>\n",
       "    </tr>\n",
       "    <tr>\n",
       "      <th>18</th>\n",
       "      <td>151.768202</td>\n",
       "      <td>18</td>\n",
       "      <td>2017-01</td>\n",
       "      <td>0.800000</td>\n",
       "    </tr>\n",
       "  </tbody>\n",
       "</table>\n",
       "</div>"
      ],
      "text/plain": [
       "             0  Unnamed: 0    times    po-neg\n",
       "0   132.906508           0  2014-06  1.000000\n",
       "1   135.155751           1  2014-11  1.000000\n",
       "2   137.200564           2  2015-03  1.000000\n",
       "3   138.489293           3  2015-05  1.000000\n",
       "4   141.643476           4  2015-10  1.000000\n",
       "5   142.790557           5  2015-12  1.000000\n",
       "6   143.340332           6  2016-01  0.847826\n",
       "7   143.953097           7  2016-02  0.910714\n",
       "8   144.603573           8  2016-03  0.912500\n",
       "9   145.207772           9  2016-04  0.886076\n",
       "10  145.763293          10  2016-05  0.941176\n",
       "11  146.256973          11  2016-06  0.858696\n",
       "12  146.788990          12  2016-07  0.927711\n",
       "13  147.467043          13  2016-08  0.849462\n",
       "14  148.309830          14  2016-09  0.875000\n",
       "15  149.255092          15  2016-10  0.850746\n",
       "16  150.215711          16  2016-11  0.857143\n",
       "17  151.091821          17  2016-12  0.910714\n",
       "18  151.768202          18  2017-01  0.800000"
      ]
     },
     "execution_count": 45,
     "metadata": {},
     "output_type": "execute_result"
    }
   ],
   "source": [
    "price_web = price.dropna()\n",
    "average_price = pd.DataFrame(np.mean(price_web))\n",
    "sentiment_month = pd.merge(average_price,mean,left_index=True,right_on='times',how='inner')\n",
    "sentiment_month\n"
   ]
  },
  {
   "cell_type": "code",
   "execution_count": 46,
   "metadata": {
    "collapsed": false
   },
   "outputs": [
    {
     "name": "stdout",
     "output_type": "stream",
     "text": [
      "accuracy of sentiment model is  100\n"
     ]
    }
   ],
   "source": [
    "positive_negtive = sentiment_month['po-neg'].values\n",
    "avg_price = sentiment_month.iloc[:,0].values\n",
    "sum = 0\n",
    "for i in range(len(positive_negtive)-1):\n",
    "    if positive_negtive[i] > 0.5 and avg_price[i+1]>avg_price[i]:\n",
    "        sum += 1\n",
    "    elif positive_negtive[i] < 0.5 and avg_price[i+1]<avg_price[i]:\n",
    "        sum += 1\n",
    "print 'accuracy of sentiment model is ',sum/(len(positive_negtive)-1)*100 "
   ]
  },
  {
   "cell_type": "markdown",
   "metadata": {},
   "source": [
    "###### Interpretation\n",
    "\n",
    "We can see that our sentiment model is 100% accuracy. However, we do not know if our model is accuracy or not because house price have been increasing over the last few year. And as our model only shows positive setiment score from 2014 to 2017. We hope to get more news headline around 2006 to 2008 as testing set to test our model. Anyway, we can see that the news is affecting the house price in this case. It would be nice that if we can extract news according to city. This would give us more insight information on how the news affect the housing price in each city."
   ]
  },
  {
   "cell_type": "markdown",
   "metadata": {},
   "source": [
    "## VIII. Conclusion"
   ]
  },
  {
   "cell_type": "markdown",
   "metadata": {},
   "source": [
    "There are some interesting facts about Academic Performance Index as shown in the fifth part of the project. Moreover, after examining the relationship between API and house price, we find that there is a patter showing that in the cities with higher school ranking, the house price is also higher.  \n",
    "  \n",
    "From the result of the crime and house price, the less the crime occurs, the higher the house price will be.  \n",
    "Therefore, when people decide where to buy a house, school ranking and crime situation are two factors that may need to be considered into price.  \n",
    "  \n",
    "Furthermore, the information from the news can also provide directive prediction for the house price, even though house price has been increasing for the past few years."
   ]
  }
 ],
 "metadata": {
  "anaconda-cloud": {},
  "kernelspec": {
   "display_name": "Python 2",
   "language": "python",
   "name": "python2"
  },
  "language_info": {
   "codemirror_mode": {
    "name": "ipython",
    "version": 2
   },
   "file_extension": ".py",
   "mimetype": "text/x-python",
   "name": "python",
   "nbconvert_exporter": "python",
   "pygments_lexer": "ipython2",
   "version": "2.7.13"
  }
 },
 "nbformat": 4,
 "nbformat_minor": 1
}
